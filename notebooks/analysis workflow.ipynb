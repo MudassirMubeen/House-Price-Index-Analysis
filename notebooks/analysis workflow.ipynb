{
 "cells": [
  {
   "cell_type": "markdown",
   "id": "c7d16b9d",
   "metadata": {},
   "source": [
    "\n",
    "# 🏠 House Price Index (HPI) Analysis\n",
    "\n",
    "This notebook analyzes **U.S. House Price Index (HPI)** data using the **FHFA dataset**:  \n",
    "🔗 [FHFA HPI Datasets](https://www.fhfa.gov/data/hpi/datasets)\n",
    "\n",
    "### 📊 Project Features\n",
    "- Cleans and processes HPI data\n",
    "- Visualizes **national and regional trends**\n",
    "- Compares **top 5 regions**\n",
    "- Predicts **future HPI trends** using Linear Regression\n",
    "- Saves a trained model for later use\n"
   ]
  },
  {
   "cell_type": "code",
   "execution_count": null,
   "id": "9228219d",
   "metadata": {},
   "outputs": [],
   "source": [
    "\n",
    "import pandas as pd\n",
    "import matplotlib.pyplot as plt\n",
    "import seaborn as sns\n",
    "import numpy as np\n",
    "from sklearn.linear_model import LinearRegression\n",
    "import pickle\n",
    "\n",
    "# Set plot style\n",
    "sns.set(style=\"whitegrid\")\n",
    "plt.rcParams['figure.figsize'] = [14, 6]\n"
   ]
  },
  {
   "cell_type": "markdown",
   "id": "3e09244b",
   "metadata": {},
   "source": [
    "\n",
    "## 1️⃣ Load Dataset & Preprocessing\n",
    "- Load the FHFA HPI dataset (CSV)\n",
    "- Handle missing values\n",
    "- Create a `date` column from `yr` and `period`\n"
   ]
  },
  {
   "cell_type": "code",
   "execution_count": null,
   "id": "02ab62be",
   "metadata": {},
   "outputs": [],
   "source": [
    "\n",
    "# Load dataset\n",
    "file_path = \"your_file.csv\"  # Replace with your CSV path\n",
    "df = pd.read_csv(file_path)\n",
    "\n",
    "print(\"✅ Dataset Loaded\")\n",
    "print(\"Shape:\", df.shape)\n",
    "print(\"Columns:\", df.columns.tolist())\n",
    "\n",
    "# Fill missing values in index_sa with index_nsa\n",
    "df['index_sa'].fillna(df['index_nsa'], inplace=True)\n",
    "\n",
    "# Create datetime column\n",
    "df['date'] = pd.to_datetime(dict(year=df['yr'], month=df['period'], day=1))\n",
    "\n",
    "# Preview data\n",
    "df.head()\n"
   ]
  },
  {
   "cell_type": "markdown",
   "id": "348596bf",
   "metadata": {},
   "source": [
    "\n",
    "## 2️⃣ Exploratory Data Analysis (EDA)\n",
    "Let's explore the dataset to understand its structure and missing values.\n"
   ]
  },
  {
   "cell_type": "code",
   "execution_count": null,
   "id": "9060d155",
   "metadata": {},
   "outputs": [],
   "source": [
    "\n",
    "print(\"\\nDataset Info:\")\n",
    "print(df.info())\n",
    "\n",
    "print(\"\\nMissing Values:\")\n",
    "print(df.isnull().sum())\n",
    "\n",
    "# List first 20 regions\n",
    "print(\"\\n🔹 First 20 Available Regions:\")\n",
    "print(df['place_name'].unique()[:20])\n"
   ]
  },
  {
   "cell_type": "markdown",
   "id": "ae325ddf",
   "metadata": {},
   "source": [
    "\n",
    "## 3️⃣ National Average HPI Trend\n",
    "Visualize the **average HPI** across all regions over time.\n"
   ]
  },
  {
   "cell_type": "code",
   "execution_count": null,
   "id": "1c0b0202",
   "metadata": {},
   "outputs": [],
   "source": [
    "\n",
    "# Compute national average\n",
    "avg_hpi = df.groupby('date')[['index_nsa','index_sa']].mean().reset_index()\n",
    "\n",
    "# Plot National Average HPI\n",
    "plt.plot(avg_hpi['date'], avg_hpi['index_nsa'], label='Average HPI NSA', alpha=0.8)\n",
    "plt.plot(avg_hpi['date'], avg_hpi['index_sa'], label='Average HPI SA', alpha=0.9)\n",
    "plt.title(\"National Average House Price Index Over Time\")\n",
    "plt.xlabel(\"Date\")\n",
    "plt.ylabel(\"House Price Index\")\n",
    "plt.legend()\n",
    "plt.show()\n"
   ]
  },
  {
   "cell_type": "markdown",
   "id": "c2091af0",
   "metadata": {},
   "source": [
    "\n",
    "## 4️⃣ Regional Analysis\n",
    "Select a **specific region** to analyze its HPI trends.\n"
   ]
  },
  {
   "cell_type": "code",
   "execution_count": null,
   "id": "7bc98778",
   "metadata": {},
   "outputs": [],
   "source": [
    "\n",
    "# Select region\n",
    "region_name = \"East North Central\"\n",
    "\n",
    "# Auto-select first available region if not found\n",
    "if region_name not in df['place_name'].unique():\n",
    "    print(f\"⚠️ Region '{region_name}' not found! Using first available region instead.\")\n",
    "    region_name = df['place_name'].unique()[0]\n",
    "\n",
    "region_df = df[df['place_name'] == region_name].copy()\n",
    "print(f\"✅ Selected Region: {region_name}, Rows: {len(region_df)}\")\n",
    "\n",
    "# Plot regional trend\n",
    "plt.plot(region_df['date'], region_df['index_nsa'], label='HPI NSA')\n",
    "plt.plot(region_df['date'], region_df['index_sa'], label='HPI SA')\n",
    "plt.title(f\"House Price Index - {region_name}\")\n",
    "plt.xlabel(\"Date\")\n",
    "plt.ylabel(\"House Price Index\")\n",
    "plt.legend()\n",
    "plt.show()\n"
   ]
  },
  {
   "cell_type": "markdown",
   "id": "d24c6a47",
   "metadata": {},
   "source": [
    "\n",
    "## 5️⃣ Compare Top 5 Regions\n",
    "Plot HPI for the **first 5 regions** to compare trends.\n"
   ]
  },
  {
   "cell_type": "code",
   "execution_count": null,
   "id": "ebad7c8a",
   "metadata": {},
   "outputs": [],
   "source": [
    "\n",
    "top_regions = df['place_name'].unique()[:5]\n",
    "\n",
    "for region in top_regions:\n",
    "    region_data = df[df['place_name'] == region]\n",
    "    plt.plot(region_data['date'], region_data['index_sa'], label=region)\n",
    "\n",
    "plt.title(\"House Price Index - Top 5 Regions\")\n",
    "plt.xlabel(\"Date\")\n",
    "plt.ylabel(\"House Price Index\")\n",
    "plt.legend()\n",
    "plt.show()\n"
   ]
  },
  {
   "cell_type": "markdown",
   "id": "561568a7",
   "metadata": {},
   "source": [
    "\n",
    "## 6️⃣ HPI Prediction (Linear Regression)\n",
    "Predict the next **12 months** of HPI for the selected region using Linear Regression.\n"
   ]
  },
  {
   "cell_type": "code",
   "execution_count": null,
   "id": "b4f288f3",
   "metadata": {},
   "outputs": [],
   "source": [
    "\n",
    "region_df = region_df.sort_values('date')\n",
    "region_df['time_step'] = range(len(region_df))\n",
    "\n",
    "X = region_df[['time_step']]\n",
    "y = region_df['index_sa']\n",
    "\n",
    "if len(region_df) > 0:\n",
    "    model = LinearRegression()\n",
    "    model.fit(X, y)\n",
    "\n",
    "    # Predict next 12 months\n",
    "    future_steps = np.arange(len(region_df), len(region_df)+12).reshape(-1, 1)\n",
    "    future_pred = model.predict(future_steps)\n",
    "    future_dates = pd.date_range(start=region_df['date'].iloc[-1], periods=13, freq='M')[1:]\n",
    "\n",
    "    # Plot prediction\n",
    "    plt.plot(region_df['date'], y, label='Actual HPI')\n",
    "    plt.plot(future_dates, future_pred, '--', color='red', label='Predicted HPI')\n",
    "    plt.title(f\"HPI Prediction - {region_name}\")\n",
    "    plt.xlabel(\"Date\")\n",
    "    plt.ylabel(\"House Price Index\")\n",
    "    plt.legend()\n",
    "    plt.show()\n",
    "\n",
    "    # Save model\n",
    "    with open(\"../models/hpi_model.pkl\", \"wb\") as file:\n",
    "        pickle.dump(model, file)\n",
    "\n",
    "    print(\"✅ Prediction complete. Model saved as hpi_model.pkl\")\n",
    "else:\n",
    "    print(\"⚠️ Not enough data for regression in this region!\")\n"
   ]
  },
  {
   "cell_type": "markdown",
   "id": "39648384",
   "metadata": {},
   "source": [
    "\n",
    "## ✅ Summary\n",
    "- Cleaned and visualized **HPI dataset**\n",
    "- Plotted **national and regional trends**\n",
    "- Compared **top 5 regions**\n",
    "- Predicted **next 12 months HPI** using Linear Regression\n",
    "\n",
    "Next steps:\n",
    "- Try **different ML models** for better predictions  \n",
    "- Analyze **state-level trends** for deeper insights\n"
   ]
  }
 ],
 "metadata": {
  "language_info": {
   "name": "python"
  }
 },
 "nbformat": 4,
 "nbformat_minor": 5
}
